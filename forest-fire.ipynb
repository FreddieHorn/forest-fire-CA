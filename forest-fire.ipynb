{
 "cells": [
  {
   "attachments": {},
   "cell_type": "markdown",
   "metadata": {},
   "source": [
    "# Forest Fire Model\n",
    "\n",
    "Make it possible to set the probability parameters p, f, q. Start with an empty field (all cells\n",
    "are in state Ashes).\n",
    "Write the number of cells for each state (Ashes, Tree, Fire) for each time step into a file\n",
    "(three values per line, ASCII format, separated by blanks).\n",
    "\n",
    "q - rate of induced growth\\\n",
    "f - rate of spontaneous fire\\\n",
    "p - rate of spontaneous growth"
   ]
  },
  {
   "cell_type": "code",
   "execution_count": 2,
   "metadata": {},
   "outputs": [],
   "source": [
    "import random"
   ]
  },
  {
   "cell_type": "code",
   "execution_count": 3,
   "metadata": {},
   "outputs": [],
   "source": [
    "q = 1\n",
    "f = 0.1\n",
    "p = 0.5"
   ]
  },
  {
   "cell_type": "code",
   "execution_count": 4,
   "metadata": {},
   "outputs": [],
   "source": [
    "rows, cols = (101, 82)\n",
    "automaton = [[0]*cols]*rows"
   ]
  },
  {
   "attachments": {},
   "cell_type": "markdown",
   "metadata": {},
   "source": [
    "### Auxilary functions"
   ]
  },
  {
   "cell_type": "code",
   "execution_count": 6,
   "metadata": {},
   "outputs": [],
   "source": [
    "def colored_string(numbers):\n",
    "    color_map = {\"0\": \"\\033[0;33m\", \"1\": \"\\033[32m\", \"2\": \"\\033[31m\"}\n",
    "    colored_str = \"\"\n",
    "    for n in numbers:\n",
    "        if str(n) in color_map:\n",
    "            colored_str += color_map[str(n)] + str(n) + \"\\033[0m\"\n",
    "        else:\n",
    "            colored_str += str(n)\n",
    "    return colored_str"
   ]
  },
  {
   "cell_type": "code",
   "execution_count": 7,
   "metadata": {},
   "outputs": [
    {
     "name": "stdout",
     "output_type": "stream",
     "text": [
      "\u001b[33m0\u001b[0m\u001b[33m0\u001b[0m\u001b[33m0\u001b[0m\u001b[32m1\u001b[0m\u001b[32m1\u001b[0m\u001b[32m1\u001b[0m\u001b[31m2\u001b[0m\u001b[31m2\u001b[0m\u001b[31m2\u001b[0m\n"
     ]
    }
   ],
   "source": [
    "print(colored_string(\"000111222\"))"
   ]
  },
  {
   "attachments": {},
   "cell_type": "markdown",
   "metadata": {},
   "source": [
    "Let 0 be ashes, 1 - forest and 2 - fire"
   ]
  },
  {
   "cell_type": "code",
   "execution_count": null,
   "metadata": {},
   "outputs": [],
   "source": [
    "for rows in automaton:\n",
    "    for cols in rows:\n",
    "        pass"
   ]
  }
 ],
 "metadata": {
  "kernelspec": {
   "display_name": "base",
   "language": "python",
   "name": "python3"
  },
  "language_info": {
   "codemirror_mode": {
    "name": "ipython",
    "version": 3
   },
   "file_extension": ".py",
   "mimetype": "text/x-python",
   "name": "python",
   "nbconvert_exporter": "python",
   "pygments_lexer": "ipython3",
   "version": "3.10.9"
  },
  "orig_nbformat": 4
 },
 "nbformat": 4,
 "nbformat_minor": 2
}
