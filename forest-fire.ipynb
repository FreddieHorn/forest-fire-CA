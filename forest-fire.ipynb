{
 "cells": [
  {
   "attachments": {},
   "cell_type": "markdown",
   "metadata": {},
   "source": [
    "# Forest Fire Model\n",
    "\n",
    "Make it possible to set the probability parameters p, f, q. Start with an empty field (all cells\n",
    "are in state Ashes).\n",
    "Write the number of cells for each state (Ashes, Tree, Fire) for each time step into a file\n",
    "(three values per line, ASCII format, separated by blanks).\n",
    "\n",
    "q - rate of induced growth\\\n",
    "f - rate of spontaneous fire\\\n",
    "p - rate of spontaneous growth"
   ]
  },
  {
   "cell_type": "code",
   "execution_count": 1,
   "metadata": {},
   "outputs": [],
   "source": [
    "import numpy as np"
   ]
  },
  {
   "cell_type": "code",
   "execution_count": 2,
   "metadata": {},
   "outputs": [],
   "source": [
    "q = 0.1 #1 - induced growth. \n",
    "f = 0.01\n",
    "p = 1"
   ]
  },
  {
   "cell_type": "code",
   "execution_count": 3,
   "metadata": {},
   "outputs": [],
   "source": [
    "num_rows, num_cols = (10, 10)\n",
    "automaton = [[0]*num_cols]*num_rows\n",
    "iterations = 20"
   ]
  },
  {
   "attachments": {},
   "cell_type": "markdown",
   "metadata": {},
   "source": [
    "### Auxilary functions"
   ]
  },
  {
   "cell_type": "code",
   "execution_count": 4,
   "metadata": {},
   "outputs": [],
   "source": [
    "def process_singular_cell(cell):\n",
    "    if cell == 0:\n",
    "        return np.random.choice([0, 1], p = [1-p, p]) #creation of forest cell with a probability of p\n",
    "    elif cell == 1:\n",
    "        return np.random.choice([1, 2], p = [1-f, f]) #spreading fire with a probability of f\n",
    "    elif cell == 2: \n",
    "        return 0 #cell that burned turned to ashes.\n",
    "    else:\n",
    "        return cell"
   ]
  },
  {
   "cell_type": "code",
   "execution_count": 5,
   "metadata": {},
   "outputs": [
    {
     "name": "stdout",
     "output_type": "stream",
     "text": [
      "0\n"
     ]
    }
   ],
   "source": [
    "print(np.random.choice([0, 1], p = [1-p, p]))"
   ]
  },
  {
   "cell_type": "code",
   "execution_count": 6,
   "metadata": {},
   "outputs": [],
   "source": [
    "def process_cell_neighbourhood(cell, neighbourhood_cell):\n",
    "    if cell == 0:\n",
    "        if neighbourhood_cell == 1:\n",
    "            return np.random.choice([0, 1], p = [1-q, q])\n",
    "        else:\n",
    "            return 0\n",
    "    elif cell == 1:\n",
    "        if neighbourhood_cell == 2:\n",
    "            return 2\n",
    "        else:\n",
    "            return 1\n",
    "    else:\n",
    "        return cell #somehow this saves the program\n"
   ]
  },
  {
   "cell_type": "code",
   "execution_count": 7,
   "metadata": {},
   "outputs": [],
   "source": [
    "def neighbourhood_range(row_id, column_id, radius):\n",
    "    \"\"\"\n",
    "    Returns the range of the neighbourhood of a given point in a 2D matrix.\n",
    "\n",
    "    Args:\n",
    "    - X: the number of rows in the matrix\n",
    "    - Y: the number of columns in the matrix\n",
    "    - row_id: the row index of the point\n",
    "    - column_id: the column index of the point\n",
    "    - radius: the radius of the neighbourhood (in number of cells away from the center)\n",
    "\n",
    "    Returns:\n",
    "    - A tuple (-1, 1, -1, 1) representing the range of the neighbourhood.\n",
    "    \"\"\"\n",
    "\n",
    "    start_row = max(0, row_id - radius)\n",
    "    end_row = min(num_rows - 1, row_id + radius)\n",
    "\n",
    "    start_column = max(0, column_id - radius)\n",
    "    end_column = min(num_cols - 1, column_id + radius)\n",
    "\n",
    "    # Handle the special case where row_id is 0\n",
    "    if row_id == 0:\n",
    "        start_row = 0\n",
    "\n",
    "    # Handle the special case where column_id is 0\n",
    "    if column_id == 0:\n",
    "        start_column = 0\n",
    "\n",
    "    # Handle the special case where row_id is at the edge of the matrix\n",
    "    if row_id == num_rows - 1:\n",
    "        end_row = num_rows - 1\n",
    "\n",
    "    # Handle the special case where column_id is at the edge of the matrix\n",
    "    if column_id == num_cols - 1:\n",
    "        end_column = num_cols - 1\n",
    "\n",
    "    return (start_row - row_id, end_row - row_id, start_column - column_id, end_column - column_id)\n"
   ]
  },
  {
   "cell_type": "code",
   "execution_count": 8,
   "metadata": {},
   "outputs": [
    {
     "name": "stdout",
     "output_type": "stream",
     "text": [
      "-1 0\n",
      "0 -1\n",
      "0 1\n",
      "1 0\n"
     ]
    }
   ],
   "source": [
    "(start_row, end_row, start_column, end_column) = neighbourhood_range(1, 5, 1)\n",
    "\n",
    "\n",
    "for i in range(start_row, end_row+1):\n",
    "            for j in range(start_column, end_column+1):\n",
    "                if (j != 0 and i!=0) or (j == 0 and i ==0):\n",
    "                    continue\n",
    "                print(i,j)\n"
   ]
  },
  {
   "cell_type": "code",
   "execution_count": 9,
   "metadata": {},
   "outputs": [],
   "source": [
    "def colored_string(numbers):\n",
    "    color_map = {\"0\": \"\\033[0;33m\", \"1\": \"\\033[32m\", \"2\": \"\\033[31m\"}\n",
    "    colored_str = \"\"\n",
    "    for n in numbers:\n",
    "        if str(n) in color_map:\n",
    "            colored_str += color_map[str(n)] + str(n) + \"\\033[0m\"\n",
    "        else:\n",
    "            colored_str += str(n)\n",
    "    return colored_str"
   ]
  },
  {
   "cell_type": "code",
   "execution_count": 10,
   "metadata": {},
   "outputs": [
    {
     "name": "stdout",
     "output_type": "stream",
     "text": [
      "\u001b[32m1\u001b[0m\u001b[0;33m0\u001b[0m\u001b[32m1\u001b[0m\n"
     ]
    }
   ],
   "source": [
    "print(colored_string([1,0,1]))"
   ]
  },
  {
   "cell_type": "code",
   "execution_count": 11,
   "metadata": {},
   "outputs": [],
   "source": [
    "def print_automaton(automaton):\n",
    "    for row in automaton:\n",
    "        for column in row:\n",
    "            print(str(row))\n",
    "        print(\"DUPA\\n\")\n",
    "    "
   ]
  },
  {
   "attachments": {},
   "cell_type": "markdown",
   "metadata": {},
   "source": [
    "Let 0 be ashes (yellow), 1 - forest (green) and 2 - fire (red)"
   ]
  },
  {
   "cell_type": "code",
   "execution_count": 1,
   "metadata": {},
   "outputs": [
    {
     "ename": "NameError",
     "evalue": "name 'automaton' is not defined",
     "output_type": "error",
     "traceback": [
      "\u001b[1;31m---------------------------------------------------------------------------\u001b[0m",
      "\u001b[1;31mNameError\u001b[0m                                 Traceback (most recent call last)",
      "Cell \u001b[1;32mIn[1], line 3\u001b[0m\n\u001b[0;32m      1\u001b[0m running \u001b[39m=\u001b[39m \u001b[39mTrue\u001b[39;00m\n\u001b[0;32m      2\u001b[0m iters \u001b[39m=\u001b[39m \u001b[39m0\u001b[39m\n\u001b[1;32m----> 3\u001b[0m new_automaton \u001b[39m=\u001b[39m automaton\n\u001b[0;32m      4\u001b[0m \u001b[39mwith\u001b[39;00m \u001b[39mopen\u001b[39m(\u001b[39m\"\u001b[39m\u001b[39mgowno.txt\u001b[39m\u001b[39m\"\u001b[39m, \u001b[39m\"\u001b[39m\u001b[39mw\u001b[39m\u001b[39m\"\u001b[39m) \u001b[39mas\u001b[39;00m file:\n\u001b[0;32m      5\u001b[0m     \u001b[39mwhile\u001b[39;00m running:\n",
      "\u001b[1;31mNameError\u001b[0m: name 'automaton' is not defined"
     ]
    }
   ],
   "source": [
    "running = True\n",
    "iters = 0\n",
    "new_automaton = automaton\n",
    "with open(\"gowno.txt\", \"w\") as file:\n",
    "    while running:\n",
    "        iters+=1\n",
    "        for row_id, rows in enumerate(automaton):\n",
    "            for column_id, cell in enumerate(rows):\n",
    "                row_range_b, row_range_upper, column_range_b, column_range_upper = neighbourhood_range(row_id, column_id, 1)\n",
    "                for i in range(row_range_b, row_range_upper+1):\n",
    "                    for j in range(column_range_b, column_range_upper+1):\n",
    "                        if (j != 0 and i!=0) or (j == 0 and i ==0):\n",
    "                            continue\n",
    "                        cell = process_cell_neighbourhood(cell, automaton[i][j])\n",
    "                        cell = process_singular_cell(cell)\n",
    "                new_automaton[row_id][column_id] = cell\n",
    "            file.writelines(str(rows))\n",
    "            file.write(\"\\n\")\n",
    "        file.writelines(\"dupa\")\n",
    "        file.writelines(\"\\n\")\n",
    "        \n",
    "        automaton = new_automaton\n",
    "        if iters == iterations:\n",
    "            running = False\n"
   ]
  }
 ],
 "metadata": {
  "kernelspec": {
   "display_name": "base",
   "language": "python",
   "name": "python3"
  },
  "language_info": {
   "codemirror_mode": {
    "name": "ipython",
    "version": 3
   },
   "file_extension": ".py",
   "mimetype": "text/x-python",
   "name": "python",
   "nbconvert_exporter": "python",
   "pygments_lexer": "ipython3",
   "version": "3.10.9"
  },
  "orig_nbformat": 4
 },
 "nbformat": 4,
 "nbformat_minor": 2
}
