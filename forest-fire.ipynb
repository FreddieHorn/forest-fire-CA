{
 "cells": [
  {
   "attachments": {},
   "cell_type": "markdown",
   "metadata": {},
   "source": [
    "# Forest Fire Model\n",
    "\n",
    "Make it possible to set the probability parameters p, f, q. Start with an empty field (all cells\n",
    "are in state Ashes).\n",
    "Write the number of cells for each state (Ashes, Tree, Fire) for each time step into a file\n",
    "(three values per line, ASCII format, separated by blanks).\n",
    "\n",
    "q - rate of induced growth\\\n",
    "f - rate of spontaneous fire\\\n",
    "p - rate of spontaneous growth"
   ]
  },
  {
   "cell_type": "code",
   "execution_count": 7,
   "metadata": {},
   "outputs": [],
   "source": [
    "import numpy as np"
   ]
  },
  {
   "cell_type": "code",
   "execution_count": 8,
   "metadata": {},
   "outputs": [],
   "source": [
    "q = 0.1 #1 - induced growth. \n",
    "f = 0.01\n",
    "p = .5"
   ]
  },
  {
   "cell_type": "code",
   "execution_count": 9,
   "metadata": {},
   "outputs": [],
   "source": [
    "nx, ny = (10, 10)\n",
    "# automaton = np.zeros((num_rows, num_cols))\n",
    "iterations = 20\n",
    "neighbourhood = ((-1,0), (0,-1), (0, 1), (1,0))"
   ]
  },
  {
   "attachments": {},
   "cell_type": "markdown",
   "metadata": {},
   "source": [
    "### Auxilary functions"
   ]
  },
  {
   "cell_type": "code",
   "execution_count": 10,
   "metadata": {},
   "outputs": [],
   "source": [
    "def process_singular_cell(cell):\n",
    "    if cell == 0:\n",
    "        return np.random.choice([0, 1], p = [1-p, p]) #creation of forest cell with a probability of p\n",
    "    elif cell == 1:\n",
    "        return np.random.choice([1, 2], p = [1-f, f]) #spreading fire with a probability of f\n",
    "    elif cell == 2: \n",
    "        return 0 #cell that burned turned to ashes.\n",
    "    else:\n",
    "        return cell"
   ]
  },
  {
   "cell_type": "code",
   "execution_count": 11,
   "metadata": {},
   "outputs": [
    {
     "name": "stdout",
     "output_type": "stream",
     "text": [
      "0\n"
     ]
    }
   ],
   "source": [
    "print(np.random.choice([0, 1], p = [1-p, p]))"
   ]
  },
  {
   "cell_type": "code",
   "execution_count": 12,
   "metadata": {},
   "outputs": [],
   "source": [
    "def process_cell_neighbourhood(cell, neighbourhood_cell):\n",
    "    if cell == 0:\n",
    "        if neighbourhood_cell == 1:\n",
    "            return np.random.choice([0, 1], p = [1-q, q])\n",
    "        else:\n",
    "            return 0\n",
    "    elif cell == 1:\n",
    "        if neighbourhood_cell == 2:\n",
    "            return 2\n",
    "        else:\n",
    "            return 1\n",
    "    else:\n",
    "        return cell #somehow this saves the program\n"
   ]
  },
  {
   "cell_type": "code",
   "execution_count": 13,
   "metadata": {},
   "outputs": [],
   "source": [
    "def colored_string(numbers):\n",
    "    color_map = {\"0\": \"\\033[0;33m\", \"1\": \"\\033[32m\", \"2\": \"\\033[31m\"}\n",
    "    colored_str = \"\"\n",
    "    for n in numbers:\n",
    "        if str(n) in color_map:\n",
    "            colored_str += color_map[str(n)] + str(n) + \"\\033[0m\"\n",
    "        else:\n",
    "            colored_str += str(n)\n",
    "    return colored_str"
   ]
  },
  {
   "cell_type": "code",
   "execution_count": 14,
   "metadata": {},
   "outputs": [
    {
     "name": "stdout",
     "output_type": "stream",
     "text": [
      "\u001b[32m1\u001b[0m\u001b[0;33m0\u001b[0m\u001b[32m1\u001b[0m\n"
     ]
    }
   ],
   "source": [
    "print(colored_string([1,0,1]))"
   ]
  },
  {
   "cell_type": "code",
   "execution_count": 16,
   "metadata": {},
   "outputs": [],
   "source": [
    "def print_automaton(automaton):\n",
    "    for row in automaton:\n",
    "        for column in row:\n",
    "            print(str(row))\n",
    "    "
   ]
  },
  {
   "cell_type": "code",
   "execution_count": 17,
   "metadata": {},
   "outputs": [],
   "source": [
    "def iterate(X):\n",
    "    \"\"\"Iterate the forest according to the forest-fire rules.\"\"\"\n",
    "\n",
    "    # The boundary of the forest is always empty, so only consider cells\n",
    "    # indexed from 1 to nx-2, 1 to ny-2\n",
    "    X1 = np.zeros((nx, ny))\n",
    "    for ix in range(1,nx-1):\n",
    "        for iy in range(1,ny-1):\n",
    "            if X[iy,ix] == 0 and np.random.random() <= p:\n",
    "                X1[iy,ix] = 1\n",
    "            if X[iy,ix] == 1:\n",
    "                X1[iy,ix] = 1\n",
    "                for dx,dy in neighbourhood:\n",
    "                    if X[iy+dy,ix+dx] == 2:\n",
    "                        X1[iy,ix] = 2\n",
    "                        break\n",
    "                else:\n",
    "                    if np.random.random() <= f:\n",
    "                        X1[iy,ix] = 2\n",
    "    return X1"
   ]
  },
  {
   "attachments": {},
   "cell_type": "markdown",
   "metadata": {},
   "source": [
    "Let 0 be ashes (yellow), 1 - forest (green) and 2 - fire (red)"
   ]
  },
  {
   "cell_type": "code",
   "execution_count": 24,
   "metadata": {},
   "outputs": [],
   "source": [
    "%matplotlib inline\n",
    "import matplotlib.pyplot as plt\n",
    "from matplotlib import colors\n",
    "from matplotlib import animation\n",
    "colors_list = [(0.2,0,0), (0,0.5,0), (1,0,0), 'orange']\n",
    "cmap = colors.ListedColormap(colors_list)\n",
    "bounds = [0,1,2,3]\n",
    "norm = colors.BoundaryNorm(bounds, cmap.N)\n",
    "forest_fraction = 0.2"
   ]
  },
  {
   "cell_type": "code",
   "execution_count": 35,
   "metadata": {},
   "outputs": [
    {
     "data": {
      "image/png": "[encoded data removed]",
      "text/plain": [
       "<Figure size 833.333x625 with 1 Axes>"
      ]
     },
     "metadata": {},
     "output_type": "display_data"
    }
   ],
   "source": [
    "# running = True\n",
    "# iters = 0\n",
    "# new_automaton = automaton\n",
    "# with open(\"gowno.txt\", \"w\") as file:\n",
    "#     while running:\n",
    "#         iters+=1\n",
    "#         for row_id, rows in enumerate(automaton):\n",
    "#             for column_id, cell in enumerate(rows):\n",
    "        \n",
    "#         if iters == iterations:\n",
    "#             running = False\n",
    "X  = np.zeros((ny, nx))\n",
    "X[1:ny-1, 1:nx-1] = np.random.randint(0, 2, size=(ny-2, nx-2))\n",
    "X[1:ny-1, 1:nx-1] = np.random.random(size=(ny-2, nx-2)) < forest_fraction\n",
    "\n",
    "fig = plt.figure(figsize=(25/3, 6.25))\n",
    "ax = fig.add_subplot(111)\n",
    "ax.set_axis_off()\n",
    "im = ax.imshow(X, cmap=cmap, norm=norm)#, interpolation='nearest')\n",
    "\n",
    "# The animation function: called to produce a frame for each generation.\n",
    "def animate(i):\n",
    "    im.set_data(animate.X)\n",
    "    animate.X = iterate(animate.X)\n",
    "# Bind our grid to the identifier X in the animate function's namespace.\n",
    "animate.X = X\n",
    "\n",
    "# Interval between frames (ms).\n",
    "interval = 100\n",
    "anim = animation.FuncAnimation(fig, animate, interval=interval, frames=200)\n"
   ]
  },
  {
   "cell_type": "code",
   "execution_count": 26,
   "metadata": {},
   "outputs": [
    {
     "ename": "RuntimeError",
     "evalue": "Requested MovieWriter (ffmpeg) not available",
     "output_type": "error",
     "traceback": [
      "\u001b[1;31m---------------------------------------------------------------------------\u001b[0m",
      "\u001b[1;31mRuntimeError\u001b[0m                              Traceback (most recent call last)",
      "Cell \u001b[1;32mIn[26], line 2\u001b[0m\n\u001b[0;32m      1\u001b[0m \u001b[39mfrom\u001b[39;00m \u001b[39mIPython\u001b[39;00m\u001b[39m.\u001b[39;00m\u001b[39mdisplay\u001b[39;00m \u001b[39mimport\u001b[39;00m HTML\n\u001b[1;32m----> 2\u001b[0m HTML(anim\u001b[39m.\u001b[39;49mto_html5_video())\n",
      "File \u001b[1;32mc:\\Users\\fryde\\miniconda3\\lib\\site-packages\\matplotlib\\animation.py:1284\u001b[0m, in \u001b[0;36mAnimation.to_html5_video\u001b[1;34m(self, embed_limit)\u001b[0m\n\u001b[0;32m   1281\u001b[0m path \u001b[39m=\u001b[39m Path(tmpdir, \u001b[39m\"\u001b[39m\u001b[39mtemp.m4v\u001b[39m\u001b[39m\"\u001b[39m)\n\u001b[0;32m   1282\u001b[0m \u001b[39m# We create a writer manually so that we can get the\u001b[39;00m\n\u001b[0;32m   1283\u001b[0m \u001b[39m# appropriate size for the tag\u001b[39;00m\n\u001b[1;32m-> 1284\u001b[0m Writer \u001b[39m=\u001b[39m writers[mpl\u001b[39m.\u001b[39;49mrcParams[\u001b[39m'\u001b[39;49m\u001b[39manimation.writer\u001b[39;49m\u001b[39m'\u001b[39;49m]]\n\u001b[0;32m   1285\u001b[0m writer \u001b[39m=\u001b[39m Writer(codec\u001b[39m=\u001b[39m\u001b[39m'\u001b[39m\u001b[39mh264\u001b[39m\u001b[39m'\u001b[39m,\n\u001b[0;32m   1286\u001b[0m                 bitrate\u001b[39m=\u001b[39mmpl\u001b[39m.\u001b[39mrcParams[\u001b[39m'\u001b[39m\u001b[39manimation.bitrate\u001b[39m\u001b[39m'\u001b[39m],\n\u001b[0;32m   1287\u001b[0m                 fps\u001b[39m=\u001b[39m\u001b[39m1000.\u001b[39m \u001b[39m/\u001b[39m \u001b[39mself\u001b[39m\u001b[39m.\u001b[39m_interval)\n\u001b[0;32m   1288\u001b[0m \u001b[39mself\u001b[39m\u001b[39m.\u001b[39msave(\u001b[39mstr\u001b[39m(path), writer\u001b[39m=\u001b[39mwriter)\n",
      "File \u001b[1;32mc:\\Users\\fryde\\miniconda3\\lib\\site-packages\\matplotlib\\animation.py:148\u001b[0m, in \u001b[0;36mMovieWriterRegistry.__getitem__\u001b[1;34m(self, name)\u001b[0m\n\u001b[0;32m    146\u001b[0m \u001b[39mif\u001b[39;00m \u001b[39mself\u001b[39m\u001b[39m.\u001b[39mis_available(name):\n\u001b[0;32m    147\u001b[0m     \u001b[39mreturn\u001b[39;00m \u001b[39mself\u001b[39m\u001b[39m.\u001b[39m_registered[name]\n\u001b[1;32m--> 148\u001b[0m \u001b[39mraise\u001b[39;00m \u001b[39mRuntimeError\u001b[39;00m(\u001b[39mf\u001b[39m\u001b[39m\"\u001b[39m\u001b[39mRequested MovieWriter (\u001b[39m\u001b[39m{\u001b[39;00mname\u001b[39m}\u001b[39;00m\u001b[39m) not available\u001b[39m\u001b[39m\"\u001b[39m)\n",
      "\u001b[1;31mRuntimeError\u001b[0m: Requested MovieWriter (ffmpeg) not available"
     ]
    }
   ],
   "source": [
    "from IPython.display import HTML\n",
    "HTML(anim.to_html5_video())"
   ]
  }
 ],
 "metadata": {
  "kernelspec": {
   "display_name": "base",
   "language": "python",
   "name": "python3"
  },
  "language_info": {
   "codemirror_mode": {
    "name": "ipython",
    "version": 3
   },
   "file_extension": ".py",
   "mimetype": "text/x-python",
   "name": "python",
   "nbconvert_exporter": "python",
   "pygments_lexer": "ipython3",
   "version": "3.10.9"
  },
  "orig_nbformat": 4
 },
 "nbformat": 4,
 "nbformat_minor": 2
}
